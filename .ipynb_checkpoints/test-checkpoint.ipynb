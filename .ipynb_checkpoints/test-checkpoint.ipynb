{
 "cells": [
  {
   "cell_type": "code",
   "execution_count": 2,
   "metadata": {
    "collapsed": false
   },
   "outputs": [
    {
     "data": {
      "text/plain": [
       "7.8678131103516e-06\t Seconds since start\t\n"
      ]
     },
     "execution_count": 2,
     "metadata": {},
     "output_type": "execute_result"
    },
    {
     "data": {
      "text/plain": [
       "34.251736879349\t Seconds since start\t\n",
       "10\t% accuracy\t\n"
      ]
     },
     "execution_count": 2,
     "metadata": {},
     "output_type": "execute_result"
    }
   ],
   "source": [
    "require 'paths'\n",
    "require 'nn'\n",
    "\n",
    "if (not paths.filep(\"cifar10torchsmall.zip\")) then\n",
    "    os.execute('wget -c https://s3.amazonaws.com/torch7/data/cifar10torchsmall.zip')\n",
    "    os.execute('unzip cifar10torchsmall.zip')\n",
    "end\n",
    "testset = torch.load('cifar10-test.t7')\n",
    "classes = {'airplane', 'automobile', 'bird', 'cat',\n",
    "           'deer', 'dog', 'frog', 'horse', 'ship', 'truck'}\n",
    "\n",
    "cifarnet = torch.load(\"cifarnet.t7\")\n",
    "\n",
    "\n",
    "-- for checking the code\n",
    "-- predict = cifarnet:forward(testset.data[1]:resize(3072):double())\n",
    "-- print(predict:exp())\n",
    "-- print(testset.label[1])\n",
    "-- itorch.image(testset.data[1])\n",
    "\n",
    "-- for i=1,50 do\n",
    "--     local predict = cifarnet:forward(testset.data[i]:resize(3072):double()):exp()\n",
    "--     local max = torch.max(predict)\n",
    "--     for j = 1,10 do\n",
    "--         if max == predict[j] then\n",
    "--             print(j)\n",
    "--             itorch.image(testset.data[i])\n",
    "--         end\n",
    "--     end\n",
    "-- end\n",
    "-- for checking the code ends here\n",
    "\n",
    "timer = torch.Timer()\n",
    "print(timer:time().real,\" Seconds since start\")\n",
    "correct = 0\n",
    "for i=1,10000 do\n",
    "    local predict = cifarnet:forward(testset.data[1]:resize(3072):double()):exp()\n",
    "    local max = torch.max(predict)\n",
    "    for j = 1,10 do\n",
    "        if max == predict[j] then            \n",
    "            if testset.label[i] == j then\n",
    "                correct = correct+1\n",
    "            end\n",
    "        end\n",
    "    end    \n",
    "end\n",
    "print(timer:time().real,\" Seconds since start\")\n",
    "\n",
    "accuracy = (correct/10000)*100\n",
    "print(accuracy, \"% accuracy\")"
   ]
  }
 ],
 "metadata": {
  "kernelspec": {
   "display_name": "iTorch",
   "language": "lua",
   "name": "itorch"
  },
  "language_info": {
   "name": "lua",
   "version": "5.1"
  }
 },
 "nbformat": 4,
 "nbformat_minor": 1
}
