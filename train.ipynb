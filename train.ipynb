{
 "cells": [
  {
   "cell_type": "code",
   "execution_count": 1,
   "metadata": {
    "collapsed": false
   },
   "outputs": [
    {
     "data": {
      "text/plain": [
       "7\t\n"
      ]
     },
     "execution_count": 1,
     "metadata": {},
     "output_type": "execute_result"
    },
    {
     "data": {
      "image/png": "[encoded data removed]",
      "text/plain": [
       "Console does not support images"
      ]
     },
     "metadata": {
      "image/png": {
       "height": 32,
       "width": 32
      }
     },
     "output_type": "display_data"
    },
    {
     "data": {
      "text/plain": [
       "training\t\n",
       "8.1062316894531e-06\t Seconds since start\t\n"
      ]
     },
     "execution_count": 1,
     "metadata": {},
     "output_type": "execute_result"
    },
    {
     "data": {
      "text/plain": [
       "# StochasticGradient: training\t\n"
      ]
     },
     "execution_count": 1,
     "metadata": {},
     "output_type": "execute_result"
    },
    {
     "data": {
      "text/plain": [
       "# current error = 2.3157012420286\t\n"
      ]
     },
     "execution_count": 1,
     "metadata": {},
     "output_type": "execute_result"
    },
    {
     "data": {
      "text/plain": [
       "# current error = 2.3147726537946\t\n"
      ]
     },
     "execution_count": 1,
     "metadata": {},
     "output_type": "execute_result"
    },
    {
     "data": {
      "text/plain": [
       "# current error = 2.3150153763433\t\n"
      ]
     },
     "execution_count": 1,
     "metadata": {},
     "output_type": "execute_result"
    },
    {
     "data": {
      "text/plain": [
       "# current error = 2.3153673633647\t\n"
      ]
     },
     "execution_count": 1,
     "metadata": {},
     "output_type": "execute_result"
    },
    {
     "data": {
      "text/plain": [
       "# current error = 2.3152007011593\t\n"
      ]
     },
     "execution_count": 1,
     "metadata": {},
     "output_type": "execute_result"
    },
    {
     "data": {
      "text/plain": [
       "# StochasticGradient: you have reached the maximum number of iterations\t\n"
      ]
     },
     "execution_count": 1,
     "metadata": {},
     "output_type": "execute_result"
    },
    {
     "data": {
      "text/plain": [
       "# training error = 2.3152007011593\t\n",
       "3434.955229044\t Seconds used for training\t\n"
      ]
     },
     "execution_count": 1,
     "metadata": {},
     "output_type": "execute_result"
    }
   ],
   "source": [
    "require 'paths'\n",
    "require 'nn'\n",
    "\n",
    "if (not paths.filep(\"cifar10torchsmall.zip\")) then\n",
    "    os.execute('wget -c https://s3.amazonaws.com/torch7/data/cifar10torchsmall.zip')\n",
    "    os.execute('unzip cifar10torchsmall.zip')\n",
    "end\n",
    "fullset = torch.load('cifar10-train.t7')\n",
    "fullset.size = 10000\n",
    "classes = {'airplane', 'automobile', 'bird', 'cat',\n",
    "           'deer', 'dog', 'frog', 'horse', 'ship', 'truck'}\n",
    "\n",
    "print(fullset.label[1])\n",
    "itorch.image(fullset.data[1])\n",
    "\n",
    "dataset = {}\n",
    "\n",
    "for i=1,fullset.size do\n",
    "    dataset[i] = {fullset.data[i]:resize(3072):double(), fullset.label[i]}\n",
    "end\n",
    "\n",
    "function dataset:size()\n",
    "    return fullset.size\n",
    "end\n",
    "\n",
    "cifarnet = nn.Sequential()\n",
    "cifarnet:add(nn.Linear(3072,100))\n",
    "cifarnet:add(nn.Sigmoid())\n",
    "cifarnet:add(nn.Linear(100,10))\n",
    "cifarnet:add(nn.LogSoftMax())\n",
    "\n",
    "-- lossfunc = nn.MSECriterion()\n",
    "lossfunc = nn.ClassNLLCriterion()\n",
    "trainer = nn.StochasticGradient(cifarnet, lossfunc)\n",
    "trainer.learningRate = 0.001\n",
    "trainer.maxIteration = 5\n",
    "\n",
    "print(\"training\")\n",
    "timer = torch.Timer()\n",
    "print(timer:time().real,\" Seconds since start\")\n",
    "trainer:train(dataset)\n",
    "print(timer:time().real,\" Seconds used for training\")\n",
    "torch.save(\"cifarnet.t7\",cifarnet)"
   ]
  },
  {
   "cell_type": "code",
   "execution_count": null,
   "metadata": {
    "collapsed": true
   },
   "outputs": [],
   "source": []
  }
 ],
 "metadata": {
  "kernelspec": {
   "display_name": "iTorch",
   "language": "lua",
   "name": "itorch"
  },
  "language_info": {
   "name": "lua",
   "version": "5.1"
  }
 },
 "nbformat": 4,
 "nbformat_minor": 1
}
